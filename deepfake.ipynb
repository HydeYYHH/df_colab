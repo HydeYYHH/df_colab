{
  "cells": [
    {
      "cell_type": "code",
      "execution_count": null,
      "metadata": {
        "id": "Mja8Byp4Ga_Z"
      },
      "outputs": [],
      "source": [
        "#@title setup\n",
        "%cd /content\n",
        "! git clone https://github.com/HydeYYHH/df_colab\n",
        "%cd /content/df_colab\n",
        "! pip install -r requirements.txt\n",
        "! pip install gradio\n",
        "! wget https://civitai.com/api/download/models/85159 -O /content/df_colab/inswapper_128.onnx\n",
        "! mkdir /content/output /content/target"
      ]
    },
    {
      "cell_type": "code",
      "execution_count": null,
      "metadata": {
        "id": "zVtFKJfuE_00"
      },
      "outputs": [],
      "source": [
        "#@title deepfake\n",
        "face = \"\" # @param {type:\"string\"}\n",
        "target = \"\" # @param {type:\"string\"}\n",
        "output = \"\" # @param {type:\"string\"}\n",
        "face_enhancer = False # @param {type:\"boolean\"}\n",
        "\n",
        "%cd /content/df_colab\n",
        "\n",
        "\n",
        "face_enhancer = \"face_enhancer\" if face_enhancer else \"\"\n",
        "\n",
        "\n",
        "! python run.py --target {target} --source {face} -o {output} --execution-provider cuda --frame-processor face_swapper {face_enhancer}"
      ]
    }
  ],
  "metadata": {
    "accelerator": "GPU",
    "colab": {
      "provenance": []
    },
    "kernelspec": {
      "display_name": "Python 3",
      "name": "python3"
    },
    "language_info": {
      "name": "python"
    }
  },
  "nbformat": 4,
  "nbformat_minor": 0
}